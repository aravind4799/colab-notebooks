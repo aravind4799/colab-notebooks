{
  "nbformat": 4,
  "nbformat_minor": 0,
  "metadata": {
    "colab": {
      "name": "final product recommender",
      "provenance": [],
      "collapsed_sections": []
    },
    "kernelspec": {
      "name": "python3",
      "display_name": "Python 3"
    }
  },
  "cells": [
    {
      "cell_type": "code",
      "metadata": {
        "id": "W4iaBlbJUH3I"
      },
      "source": [
        "from sklearn.feature_extraction.text import TfidfVectorizer, CountVectorizer\n",
        "from sklearn.neighbors import NearestNeighbors\n",
        "from sklearn.cluster import KMeans\n",
        "from sklearn.metrics import adjusted_rand_score\n",
        "\n",
        "import pandas as pd\n"
      ],
      "execution_count": 55,
      "outputs": []
    },
    {
      "cell_type": "code",
      "metadata": {
        "id": "QnT9Fx2HU-9G",
        "outputId": "b571fcd0-9406-4a76-f009-4b51fa63c98b",
        "colab": {
          "base_uri": "https://localhost:8080/",
          "height": 204
        }
      },
      "source": [
        "product_descriptions = pd.read_csv('product_descriptions.csv')\n",
        "product_descriptions.shape\n",
        "\n",
        "product_descriptions = product_descriptions.dropna()\n",
        "product_descriptions.shape\n",
        "product_descriptions.head()\n",
        "\n",
        "product_descriptions1 = product_descriptions.head(500)\n",
        "# product_descriptions1.iloc[:,1]\n",
        "\n",
        "product_descriptions1[\"product_description\"].head(10)\n",
        "\n",
        "\n"
      ],
      "execution_count": 56,
      "outputs": [
        {
          "output_type": "execute_result",
          "data": {
            "text/plain": [
              "0    Not only do angles make joints stronger, they ...\n",
              "1    BEHR Premium Textured DECKOVER is an innovativ...\n",
              "2    Classic architecture meets contemporary design...\n",
              "3    The Grape Solar 265-Watt Polycrystalline PV So...\n",
              "4    Update your bathroom with the Delta Vero Singl...\n",
              "5    Achieving delicious results is almost effortle...\n",
              "6    The Quantum Adjustable 2-Light LED Black Emerg...\n",
              "7    The Teks #10 x 1-1/2 in. Zinc-Plated Steel Was...\n",
              "8    Get the House of Fara 3/4 in. x 3 in. x 8 ft. ...\n",
              "9    Valley View Industries Metal Stakes (4-Pack) a...\n",
              "Name: product_description, dtype: object"
            ]
          },
          "metadata": {
            "tags": []
          },
          "execution_count": 56
        }
      ]
    },
    {
      "cell_type": "code",
      "metadata": {
        "id": "RiiNXVaQUtPg"
      },
      "source": [
        "vectorizer = TfidfVectorizer(stop_words='english')\n",
        "X1 = vectorizer.fit_transform(product_descriptions1[\"product_description\"])\n",
        "\n",
        "\n",
        "def my_print_cluster(i):\n",
        "    relevant_terms = []\n",
        "    for ind in order_centroids[i, :10]:\n",
        "        relevant_terms.append(terms[ind])\n",
        "   \n",
        "    return(relevant_terms)\n",
        "\n",
        "\n",
        "true_k = 10\n",
        "\n",
        "model = KMeans(n_clusters=true_k, init='k-means++', max_iter=100, n_init=1)\n",
        "model.fit(X1)\n",
        "\n",
        "order_centroids = model.cluster_centers_.argsort()[:, ::-1]\n",
        "terms = vectorizer.get_feature_names()\n",
        "\n",
        "\n",
        "relevant_words = []\n",
        "\n",
        "def show_recommendations(product):\n",
        "    Y = vectorizer.transform([product])\n",
        "    prediction = model.predict(Y)\n",
        "    relevant_words = my_print_cluster(prediction[0])\n",
        "    return relevant_words\n",
        "    \n",
        "    \n",
        "\n"
      ],
      "execution_count": 83,
      "outputs": []
    },
    {
      "cell_type": "code",
      "metadata": {
        "id": "UpRGsLAWiK5q"
      },
      "source": [
        "def get_details(row,relevant_words):\n",
        "    uid , desc = row[0],row[1]\n",
        "    words = desc.split(' ')\n",
        "    if len(set(words).intersection(relevant_words))>len(relevant_words)//2: \n",
        "      return True\n",
        "    return False\n",
        "\n",
        "\n",
        "def final_results(product):\n",
        "    relevant_words = show_recommendations(product)\n",
        "    bool_results = product_descriptions.apply(get_details,axis=1,args=([relevant_words]))\n",
        "    recommended_products = product_descriptions[bool_results]\n",
        "    final = recommended_products.dropna()\n",
        "\n",
        "    print(\"number of products recommended:\",end=\"\")\n",
        "    print(final.size)\n",
        "    print(final)\n",
        "\n"
      ],
      "execution_count": 96,
      "outputs": []
    },
    {
      "cell_type": "code",
      "metadata": {
        "id": "F7b4UeeJazW7",
        "outputId": "579f2ac4-6ef0-4e43-d9b8-4e64f196592b",
        "colab": {
          "base_uri": "https://localhost:8080/",
          "height": 221
        }
      },
      "source": [
        "final_results(\"steel drill\")"
      ],
      "execution_count": 95,
      "outputs": [
        {
          "output_type": "stream",
          "text": [
            "number of products recommended:110\n",
            "       product_uid                                product_description\n",
            "825         100826  RIDGID's X4 generation of cordless tools is de...\n",
            "1239        101240  The Dremel Multi-Max MM45 gives you features a...\n",
            "2267        102268  RIDGID introduces the next generation in power...\n",
            "9109        109110  The Makita Top Handle Jig Saw combines power, ...\n",
            "9593        109594  Ryobi 18-Volt ONE+ introduces lithium-ion perf...\n",
            "12273       112274  Makita engineered the 7-1/4 in. Circular Saw w...\n",
            "12940       112941  Simply put, the M18 FUEL Band Saw is the most ...\n",
            "14911       114912  The 18-Volt X2 LXT Lithium-Ion (36-Volt) Cordl...\n",
            "15484       115485  At only 10-1/4 lbs. and 18 in. length, the Mil...\n",
            "18035       118036  The Dremel Moto-Saw offers a compact and easy ...\n"
          ],
          "name": "stdout"
        }
      ]
    }
  ]
}