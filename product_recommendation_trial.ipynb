{
  "nbformat": 4,
  "nbformat_minor": 0,
  "metadata": {
    "colab": {
      "name": "product recommendation trial",
      "provenance": []
    },
    "kernelspec": {
      "name": "python3",
      "display_name": "Python 3"
    }
  },
  "cells": [
    {
      "cell_type": "code",
      "metadata": {
        "id": "pUUpuNwaql0y"
      },
      "source": [
        "from sklearn.feature_extraction.text import TfidfVectorizer, CountVectorizer\n",
        "from sklearn.neighbors import NearestNeighbors\n",
        "from sklearn.cluster import KMeans\n",
        "from sklearn.metrics import adjusted_rand_score\n",
        "import pandas as pd"
      ],
      "execution_count": 4,
      "outputs": []
    },
    {
      "cell_type": "code",
      "metadata": {
        "id": "z1NMWjR6v1DN",
        "outputId": "b1973246-6a5b-4817-deca-d075bc50c19e",
        "colab": {
          "base_uri": "https://localhost:8080/",
          "height": 34
        }
      },
      "source": [
        "product_descriptions = pd.read_csv('product_descriptions.csv')\n",
        "product_descriptions.shape"
      ],
      "execution_count": 5,
      "outputs": [
        {
          "output_type": "execute_result",
          "data": {
            "text/plain": [
              "(124428, 2)"
            ]
          },
          "metadata": {
            "tags": []
          },
          "execution_count": 5
        }
      ]
    },
    {
      "cell_type": "code",
      "metadata": {
        "id": "yvQ7ppY2wDy-",
        "outputId": "12ad8eeb-e024-4f4a-db10-e2abba630bc9",
        "colab": {
          "base_uri": "https://localhost:8080/",
          "height": 204
        }
      },
      "source": [
        "product_descriptions = product_descriptions.dropna()\n",
        "product_descriptions.shape\n",
        "product_descriptions.head()"
      ],
      "execution_count": 6,
      "outputs": [
        {
          "output_type": "execute_result",
          "data": {
            "text/html": [
              "<div>\n",
              "<style scoped>\n",
              "    .dataframe tbody tr th:only-of-type {\n",
              "        vertical-align: middle;\n",
              "    }\n",
              "\n",
              "    .dataframe tbody tr th {\n",
              "        vertical-align: top;\n",
              "    }\n",
              "\n",
              "    .dataframe thead th {\n",
              "        text-align: right;\n",
              "    }\n",
              "</style>\n",
              "<table border=\"1\" class=\"dataframe\">\n",
              "  <thead>\n",
              "    <tr style=\"text-align: right;\">\n",
              "      <th></th>\n",
              "      <th>product_uid</th>\n",
              "      <th>product_description</th>\n",
              "    </tr>\n",
              "  </thead>\n",
              "  <tbody>\n",
              "    <tr>\n",
              "      <th>0</th>\n",
              "      <td>100001</td>\n",
              "      <td>Not only do angles make joints stronger, they ...</td>\n",
              "    </tr>\n",
              "    <tr>\n",
              "      <th>1</th>\n",
              "      <td>100002</td>\n",
              "      <td>BEHR Premium Textured DECKOVER is an innovativ...</td>\n",
              "    </tr>\n",
              "    <tr>\n",
              "      <th>2</th>\n",
              "      <td>100003</td>\n",
              "      <td>Classic architecture meets contemporary design...</td>\n",
              "    </tr>\n",
              "    <tr>\n",
              "      <th>3</th>\n",
              "      <td>100004</td>\n",
              "      <td>The Grape Solar 265-Watt Polycrystalline PV So...</td>\n",
              "    </tr>\n",
              "    <tr>\n",
              "      <th>4</th>\n",
              "      <td>100005</td>\n",
              "      <td>Update your bathroom with the Delta Vero Singl...</td>\n",
              "    </tr>\n",
              "  </tbody>\n",
              "</table>\n",
              "</div>"
            ],
            "text/plain": [
              "   product_uid                                product_description\n",
              "0       100001  Not only do angles make joints stronger, they ...\n",
              "1       100002  BEHR Premium Textured DECKOVER is an innovativ...\n",
              "2       100003  Classic architecture meets contemporary design...\n",
              "3       100004  The Grape Solar 265-Watt Polycrystalline PV So...\n",
              "4       100005  Update your bathroom with the Delta Vero Singl..."
            ]
          },
          "metadata": {
            "tags": []
          },
          "execution_count": 6
        }
      ]
    },
    {
      "cell_type": "code",
      "metadata": {
        "id": "BJrRuAINwJFd",
        "outputId": "bba9de1a-5a8c-4b8b-a38b-dfcdb2ca24f1",
        "colab": {
          "base_uri": "https://localhost:8080/",
          "height": 204
        }
      },
      "source": [
        "product_descriptions1 = product_descriptions.head(500)\n",
        "# product_descriptions1.iloc[:,1]\n",
        "\n",
        "product_descriptions1[\"product_description\"].head(10)"
      ],
      "execution_count": 7,
      "outputs": [
        {
          "output_type": "execute_result",
          "data": {
            "text/plain": [
              "0    Not only do angles make joints stronger, they ...\n",
              "1    BEHR Premium Textured DECKOVER is an innovativ...\n",
              "2    Classic architecture meets contemporary design...\n",
              "3    The Grape Solar 265-Watt Polycrystalline PV So...\n",
              "4    Update your bathroom with the Delta Vero Singl...\n",
              "5    Achieving delicious results is almost effortle...\n",
              "6    The Quantum Adjustable 2-Light LED Black Emerg...\n",
              "7    The Teks #10 x 1-1/2 in. Zinc-Plated Steel Was...\n",
              "8    Get the House of Fara 3/4 in. x 3 in. x 8 ft. ...\n",
              "9    Valley View Industries Metal Stakes (4-Pack) a...\n",
              "Name: product_description, dtype: object"
            ]
          },
          "metadata": {
            "tags": []
          },
          "execution_count": 7
        }
      ]
    },
    {
      "cell_type": "code",
      "metadata": {
        "id": "dmS5_RIUwMKO",
        "outputId": "f504ad56-a219-4f26-ff41-beea90f4567b",
        "colab": {
          "base_uri": "https://localhost:8080/",
          "height": 884
        }
      },
      "source": [
        "vectorizer = TfidfVectorizer(stop_words='english')\n",
        "X1 = vectorizer.fit_transform(product_descriptions1[\"product_description\"])\n",
        "print(X1)"
      ],
      "execution_count": 9,
      "outputs": [
        {
          "output_type": "stream",
          "text": [
            "  (0, 6935)\t0.08661742165045609\n",
            "  (0, 6944)\t0.1413414995253953\n",
            "  (0, 2658)\t0.0893871425360657\n",
            "  (0, 5295)\t0.10078581737558241\n",
            "  (0, 1758)\t0.09768530151889723\n",
            "  (0, 24)\t0.1413414995253953\n",
            "  (0, 6594)\t0.1413414995253953\n",
            "  (0, 7562)\t0.1413414995253953\n",
            "  (0, 3532)\t0.0903950754207341\n",
            "  (0, 36)\t0.07340584458653215\n",
            "  (0, 7688)\t0.1413414995253953\n",
            "  (0, 1890)\t0.1413414995253953\n",
            "  (0, 2926)\t0.0841619687203954\n",
            "  (0, 545)\t0.1413414995253953\n",
            "  (0, 3136)\t0.1044053197156438\n",
            "  (0, 6929)\t0.09256354866207298\n",
            "  (0, 5293)\t0.13255642904615592\n",
            "  (0, 582)\t0.12148854917771475\n",
            "  (0, 6169)\t0.1413414995253953\n",
            "  (0, 6527)\t0.09918014589997352\n",
            "  (0, 3958)\t0.04960259692771464\n",
            "  (0, 1867)\t0.10875318138733837\n",
            "  (0, 323)\t0.10647037199813664\n",
            "  (0, 1871)\t0.1113051451662391\n",
            "  (0, 8534)\t0.08661742165045609\n",
            "  :\t:\n",
            "  (499, 2939)\t0.1425526611849463\n",
            "  (499, 974)\t0.0961279293348903\n",
            "  (499, 4749)\t0.0769986255031151\n",
            "  (499, 8623)\t0.11969879364734047\n",
            "  (499, 2639)\t0.1306501398189535\n",
            "  (499, 306)\t0.10665943429895432\n",
            "  (499, 6329)\t0.09954387188497844\n",
            "  (499, 180)\t0.10080366823510069\n",
            "  (499, 1730)\t0.079453584162988\n",
            "  (499, 2584)\t0.09509217852455554\n",
            "  (499, 1899)\t0.06634037195843714\n",
            "  (499, 6800)\t0.12640194606308344\n",
            "  (499, 1197)\t0.10505186199097076\n",
            "  (499, 6389)\t0.09135610552898081\n",
            "  (499, 461)\t0.07794980069749487\n",
            "  (499, 8908)\t0.06786382664216335\n",
            "  (499, 6080)\t0.1425526611849463\n",
            "  (499, 3050)\t0.09223547617774291\n",
            "  (499, 2576)\t0.1549387196574106\n",
            "  (499, 2765)\t0.06253884791810381\n",
            "  (499, 8048)\t0.07844035685040818\n",
            "  (499, 5668)\t0.08739736340361476\n",
            "  (499, 4699)\t0.0859847759708318\n",
            "  (499, 8836)\t0.07161359376485167\n",
            "  (499, 3958)\t0.05334318557470992\n"
          ],
          "name": "stdout"
        }
      ]
    },
    {
      "cell_type": "code",
      "metadata": {
        "id": "wv4kc4NRw9Gm"
      },
      "source": [
        "def print_cluster(i):\n",
        "    print(\"Cluster %d:\" % i),\n",
        "    relevant_terms = []\n",
        "    for ind in order_centroids[i, :10]:\n",
        "        relevant_terms.append(terms[ind])\n",
        "        print(' %s' % terms[ind]),\n",
        "    print\n",
        "\n",
        "    #return(relevant_terms)"
      ],
      "execution_count": 33,
      "outputs": []
    },
    {
      "cell_type": "code",
      "metadata": {
        "id": "2V2iE9Z581yh"
      },
      "source": [
        "def my_print_cluster(i):\n",
        "    relevant_terms = []\n",
        "    for ind in order_centroids[i, :10]:\n",
        "        relevant_terms.append(terms[ind])\n",
        "        \n",
        "    \n",
        "    return(relevant_terms)"
      ],
      "execution_count": 47,
      "outputs": []
    },
    {
      "cell_type": "code",
      "metadata": {
        "id": "M9lNOouIxLc5",
        "outputId": "3f6f78bf-5c1f-4a29-c979-7fa136795ffe",
        "colab": {
          "base_uri": "https://localhost:8080/",
          "height": 1000
        }
      },
      "source": [
        "# # Optimal clusters is \n",
        "\n",
        "true_k = 10\n",
        "\n",
        "model = KMeans(n_clusters=true_k, init='k-means++', max_iter=100, n_init=1)\n",
        "model.fit(X1)\n",
        "\n",
        "print(\"Top terms per cluster:\")\n",
        "order_centroids = model.cluster_centers_.argsort()[:, ::-1]\n",
        "print(order_centroids)\n",
        "terms = vectorizer.get_feature_names()\n",
        "\n",
        "for i in range(true_k):\n",
        "    print_cluster(i)"
      ],
      "execution_count": 34,
      "outputs": [
        {
          "output_type": "stream",
          "text": [
            "Top terms per cluster:\n",
            "[[5837 2377 8040 ... 5684 5685    0]\n",
            " [7609 7107 4618 ... 4825 4826 8931]\n",
            " [8676 2210 5573 ... 5618 5619    0]\n",
            " ...\n",
            " [6020 3180 3527 ... 5725 5726    0]\n",
            " [1817 1203 5640 ... 5669 5670    0]\n",
            " [ 515 6040 2021 ... 5442 5443    0]]\n",
            "Cluster 0:\n",
            " piece\n",
            " design\n",
            " tile\n",
            " toilet\n",
            " stone\n",
            " recommended\n",
            " use\n",
            " brick\n",
            " natural\n",
            " indoor\n",
            "Cluster 1:\n",
            " storage\n",
            " shelves\n",
            " lbs\n",
            " duty\n",
            " heavy\n",
            " shelf\n",
            " easy\n",
            " adjustable\n",
            " capacity\n",
            " tools\n",
            "Cluster 2:\n",
            " water\n",
            " cycle\n",
            " oven\n",
            " wash\n",
            " easy\n",
            " cooking\n",
            " cu\n",
            " year\n",
            " steam\n",
            " ft\n",
            "Cluster 3:\n",
            " water\n",
            " metal\n",
            " patio\n",
            " use\n",
            " rust\n",
            " coated\n",
            " frame\n",
            " dining\n",
            " roof\n",
            " fabric\n",
            "Cluster 4:\n",
            " light\n",
            " watt\n",
            " ft\n",
            " led\n",
            " fan\n",
            " bulb\n",
            " metal\n",
            " home\n",
            " bulbs\n",
            " 20\n",
            "Cluster 5:\n",
            " door\n",
            " easy\n",
            " wood\n",
            " design\n",
            " proposition\n",
            " nbsp\n",
            " residents\n",
            " california\n",
            " 65\n",
            " nickel\n",
            "Cluster 6:\n",
            " vanity\n",
            " laminate\n",
            " kitchen\n",
            " bronze\n",
            " wilsonart\n",
            " beauty\n",
            " countertop\n",
            " collection\n",
            " color\n",
            " patchwork\n",
            "Cluster 7:\n",
            " post\n",
            " fence\n",
            " gate\n",
            " ft\n",
            " privacy\n",
            " vinyl\n",
            " natural\n",
            " posts\n",
            " screen\n",
            " reed\n",
            "Cluster 8:\n",
            " concrete\n",
            " brush\n",
            " paint\n",
            " garage\n",
            " water\n",
            " vary\n",
            " ft\n",
            " epoxy\n",
            " product\n",
            " roller\n",
            "Cluster 9:\n",
            " air\n",
            " power\n",
            " cooling\n",
            " insulation\n",
            " window\n",
            " ft\n",
            " control\n",
            " helps\n",
            " installation\n",
            " unit\n"
          ],
          "name": "stdout"
        }
      ]
    },
    {
      "cell_type": "code",
      "metadata": {
        "id": "nN0_P_du8lqb"
      },
      "source": [
        ""
      ],
      "execution_count": 38,
      "outputs": []
    },
    {
      "cell_type": "code",
      "metadata": {
        "id": "EkZy-fHoxRW3"
      },
      "source": [
        "def show_recommendations(product):\n",
        "    #print(\"Cluster ID:\")\n",
        "    Y = vectorizer.transform([product])\n",
        "    prediction = model.predict(Y)\n",
        "    print(prediction[0])\n",
        "    return(my_print_cluster(prediction[0]))\n"
      ],
      "execution_count": 48,
      "outputs": []
    },
    {
      "cell_type": "code",
      "metadata": {
        "id": "c7HBQWiXxZZm",
        "outputId": "125a77b1-a044-4436-d73b-465fbaf2db60",
        "colab": {
          "base_uri": "https://localhost:8080/",
          "height": 51
        }
      },
      "source": [
        "relevant_words = show_recommendations(\"spray paint\")\n",
        "print(relevant_words)"
      ],
      "execution_count": 119,
      "outputs": [
        {
          "output_type": "stream",
          "text": [
            "8\n",
            "['concrete', 'brush', 'paint', 'garage', 'water', 'vary', 'ft', 'epoxy', 'product', 'roller']\n"
          ],
          "name": "stdout"
        }
      ]
    },
    {
      "cell_type": "code",
      "metadata": {
        "id": "DBdtRkg4KyzI",
        "outputId": "719d7fb1-11c0-4ed0-9f3a-2e16b67ff2c7",
        "colab": {
          "base_uri": "https://localhost:8080/",
          "height": 34
        }
      },
      "source": [
        "product_descriptions.columns"
      ],
      "execution_count": 120,
      "outputs": [
        {
          "output_type": "execute_result",
          "data": {
            "text/plain": [
              "Index(['product_uid', 'product_description'], dtype='object')"
            ]
          },
          "metadata": {
            "tags": []
          },
          "execution_count": 120
        }
      ]
    },
    {
      "cell_type": "code",
      "metadata": {
        "id": "6FsamZMKQP3w",
        "outputId": "1113d2fe-4a30-4bf7-f481-9f949e0f4c6c",
        "colab": {
          "base_uri": "https://localhost:8080/",
          "height": 221
        }
      },
      "source": [
        "product_descriptions.product_uid"
      ],
      "execution_count": 121,
      "outputs": [
        {
          "output_type": "execute_result",
          "data": {
            "text/plain": [
              "0         100001\n",
              "1         100002\n",
              "2         100003\n",
              "3         100004\n",
              "4         100005\n",
              "           ...  \n",
              "124423    224424\n",
              "124424    224425\n",
              "124425    224426\n",
              "124426    224427\n",
              "124427    224428\n",
              "Name: product_uid, Length: 124428, dtype: int64"
            ]
          },
          "metadata": {
            "tags": []
          },
          "execution_count": 121
        }
      ]
    },
    {
      "cell_type": "code",
      "metadata": {
        "id": "M0CzCtTyMVcu"
      },
      "source": [
        "def get_details(row):\n",
        "    uid , desc = row[0],row[1]\n",
        "    words = desc.split(' ')\n",
        "    if len(set(words).intersection(relevant_words))>len(relevant_words)//2: \n",
        "      return True\n",
        "    return False"
      ],
      "execution_count": 122,
      "outputs": []
    },
    {
      "cell_type": "code",
      "metadata": {
        "id": "3YE_MQHjL2T9"
      },
      "source": [
        "bool_results = product_descriptions.apply(get_details,axis=1)\n"
      ],
      "execution_count": 123,
      "outputs": []
    },
    {
      "cell_type": "code",
      "metadata": {
        "id": "OyrzYrwORvjM"
      },
      "source": [
        "recommended_products = product_descriptions[bool_results]"
      ],
      "execution_count": 124,
      "outputs": []
    },
    {
      "cell_type": "code",
      "metadata": {
        "id": "SpJQz_WDSVT6"
      },
      "source": [
        "final = recommended_products.dropna()"
      ],
      "execution_count": 125,
      "outputs": []
    },
    {
      "cell_type": "code",
      "metadata": {
        "id": "bi-_h-YDRbtc",
        "outputId": "61dd91d0-f1df-4590-f1ef-6b7184bef59a",
        "colab": {
          "base_uri": "https://localhost:8080/",
          "height": 235
        }
      },
      "source": [
        "final"
      ],
      "execution_count": 126,
      "outputs": [
        {
          "output_type": "execute_result",
          "data": {
            "text/html": [
              "<div>\n",
              "<style scoped>\n",
              "    .dataframe tbody tr th:only-of-type {\n",
              "        vertical-align: middle;\n",
              "    }\n",
              "\n",
              "    .dataframe tbody tr th {\n",
              "        vertical-align: top;\n",
              "    }\n",
              "\n",
              "    .dataframe thead th {\n",
              "        text-align: right;\n",
              "    }\n",
              "</style>\n",
              "<table border=\"1\" class=\"dataframe\">\n",
              "  <thead>\n",
              "    <tr style=\"text-align: right;\">\n",
              "      <th></th>\n",
              "      <th>product_uid</th>\n",
              "      <th>product_description</th>\n",
              "    </tr>\n",
              "  </thead>\n",
              "  <tbody>\n",
              "    <tr>\n",
              "      <th>85</th>\n",
              "      <td>100086</td>\n",
              "      <td>The Rust-Oleum EpoxyShield 2 gal. Tan High-Glo...</td>\n",
              "    </tr>\n",
              "    <tr>\n",
              "      <th>306</th>\n",
              "      <td>100307</td>\n",
              "      <td>The Rust-Oleum EpoxyShield 2 gal. Gray High-Gl...</td>\n",
              "    </tr>\n",
              "    <tr>\n",
              "      <th>23001</th>\n",
              "      <td>123002</td>\n",
              "      <td>ECOBOND LBP 2 gal. Latex Primer, a unique seal...</td>\n",
              "    </tr>\n",
              "    <tr>\n",
              "      <th>32101</th>\n",
              "      <td>132102</td>\n",
              "      <td>ECOBOND LBP 1 gal. Latex primer, a unique seal...</td>\n",
              "    </tr>\n",
              "    <tr>\n",
              "      <th>104111</th>\n",
              "      <td>204112</td>\n",
              "      <td>Anvil No.1500 Series Water Reducible Acrylic S...</td>\n",
              "    </tr>\n",
              "    <tr>\n",
              "      <th>119254</th>\n",
              "      <td>219255</td>\n",
              "      <td>ECOBOND LBP 5 gal. Latex primer, a unique seal...</td>\n",
              "    </tr>\n",
              "  </tbody>\n",
              "</table>\n",
              "</div>"
            ],
            "text/plain": [
              "        product_uid                                product_description\n",
              "85           100086  The Rust-Oleum EpoxyShield 2 gal. Tan High-Glo...\n",
              "306          100307  The Rust-Oleum EpoxyShield 2 gal. Gray High-Gl...\n",
              "23001        123002  ECOBOND LBP 2 gal. Latex Primer, a unique seal...\n",
              "32101        132102  ECOBOND LBP 1 gal. Latex primer, a unique seal...\n",
              "104111       204112  Anvil No.1500 Series Water Reducible Acrylic S...\n",
              "119254       219255  ECOBOND LBP 5 gal. Latex primer, a unique seal..."
            ]
          },
          "metadata": {
            "tags": []
          },
          "execution_count": 126
        }
      ]
    },
    {
      "cell_type": "code",
      "metadata": {
        "id": "XH8uHSVPCriW",
        "outputId": "875beaba-6912-4ec9-8407-e630d3a76fd6",
        "colab": {
          "base_uri": "https://localhost:8080/",
          "height": 34
        }
      },
      "source": [
        "!git init"
      ],
      "execution_count": 6,
      "outputs": [
        {
          "output_type": "stream",
          "text": [
            "Initialized empty Git repository in /content/.git/\n"
          ],
          "name": "stdout"
        }
      ]
    },
    {
      "cell_type": "code",
      "metadata": {
        "id": "1EqjowDdDNrQ",
        "outputId": "358ebbfb-8b38-4b5c-ade7-aae722fd03e2",
        "colab": {
          "base_uri": "https://localhost:8080/",
          "height": 663
        }
      },
      "source": [
        "!git config — global user.email ehteshamhussain1999@gmail.com"
      ],
      "execution_count": 8,
      "outputs": [
        {
          "output_type": "stream",
          "text": [
            "usage: git config [<options>]\n",
            "\n",
            "Config file location\n",
            "    --global              use global config file\n",
            "    --system              use system config file\n",
            "    --local               use repository config file\n",
            "    -f, --file <file>     use given config file\n",
            "    --blob <blob-id>      read config from given blob object\n",
            "\n",
            "Action\n",
            "    --get                 get value: name [value-regex]\n",
            "    --get-all             get all values: key [value-regex]\n",
            "    --get-regexp          get values for regexp: name-regex [value-regex]\n",
            "    --get-urlmatch        get value specific for the URL: section[.var] URL\n",
            "    --replace-all         replace all matching variables: name value [value_regex]\n",
            "    --add                 add a new variable: name value\n",
            "    --unset               remove a variable: name [value-regex]\n",
            "    --unset-all           remove all matches: name [value-regex]\n",
            "    --rename-section      rename section: old-name new-name\n",
            "    --remove-section      remove a section: name\n",
            "    -l, --list            list all\n",
            "    -e, --edit            open an editor\n",
            "    --get-color           find the color configured: slot [default]\n",
            "    --get-colorbool       find the color setting: slot [stdout-is-tty]\n",
            "\n",
            "Type\n",
            "    --bool                value is \"true\" or \"false\"\n",
            "    --int                 value is decimal number\n",
            "    --bool-or-int         value is --bool or --int\n",
            "    --path                value is a path (file or directory name)\n",
            "    --expiry-date         value is an expiry date\n",
            "\n",
            "Other\n",
            "    -z, --null            terminate values with NUL byte\n",
            "    --name-only           show variable names only\n",
            "    --includes            respect include directives on lookup\n",
            "    --show-origin         show origin of config (file, standard input, blob, command line)\n",
            "\n"
          ],
          "name": "stdout"
        }
      ]
    },
    {
      "cell_type": "code",
      "metadata": {
        "id": "aYDzVUTFDYn8",
        "outputId": "131c61e7-e964-4bf8-904c-4c8ec44987a5",
        "colab": {
          "base_uri": "https://localhost:8080/",
          "height": 663
        }
      },
      "source": [
        "!git config — global user.name ehtesham1999"
      ],
      "execution_count": 9,
      "outputs": [
        {
          "output_type": "stream",
          "text": [
            "usage: git config [<options>]\n",
            "\n",
            "Config file location\n",
            "    --global              use global config file\n",
            "    --system              use system config file\n",
            "    --local               use repository config file\n",
            "    -f, --file <file>     use given config file\n",
            "    --blob <blob-id>      read config from given blob object\n",
            "\n",
            "Action\n",
            "    --get                 get value: name [value-regex]\n",
            "    --get-all             get all values: key [value-regex]\n",
            "    --get-regexp          get values for regexp: name-regex [value-regex]\n",
            "    --get-urlmatch        get value specific for the URL: section[.var] URL\n",
            "    --replace-all         replace all matching variables: name value [value_regex]\n",
            "    --add                 add a new variable: name value\n",
            "    --unset               remove a variable: name [value-regex]\n",
            "    --unset-all           remove all matches: name [value-regex]\n",
            "    --rename-section      rename section: old-name new-name\n",
            "    --remove-section      remove a section: name\n",
            "    -l, --list            list all\n",
            "    -e, --edit            open an editor\n",
            "    --get-color           find the color configured: slot [default]\n",
            "    --get-colorbool       find the color setting: slot [stdout-is-tty]\n",
            "\n",
            "Type\n",
            "    --bool                value is \"true\" or \"false\"\n",
            "    --int                 value is decimal number\n",
            "    --bool-or-int         value is --bool or --int\n",
            "    --path                value is a path (file or directory name)\n",
            "    --expiry-date         value is an expiry date\n",
            "\n",
            "Other\n",
            "    -z, --null            terminate values with NUL byte\n",
            "    --name-only           show variable names only\n",
            "    --includes            respect include directives on lookup\n",
            "    --show-origin         show origin of config (file, standard input, blob, command line)\n",
            "\n"
          ],
          "name": "stdout"
        }
      ]
    },
    {
      "cell_type": "code",
      "metadata": {
        "id": "NzzdpEDwDdnd"
      },
      "source": [
        "!git add -A"
      ],
      "execution_count": 12,
      "outputs": []
    },
    {
      "cell_type": "code",
      "metadata": {
        "id": "7EkNEBq2Dfx8",
        "outputId": "6d340c08-17c4-4ecc-fb28-497890c943cd",
        "colab": {
          "base_uri": "https://localhost:8080/",
          "height": 34
        }
      },
      "source": [
        "!git commit -m “first commit”"
      ],
      "execution_count": 13,
      "outputs": [
        {
          "output_type": "stream",
          "text": [
            "error: pathspec 'commit”' did not match any file(s) known to git.\n"
          ],
          "name": "stdout"
        }
      ]
    }
  ]
}