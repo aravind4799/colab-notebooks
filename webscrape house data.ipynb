{
 "cells": [
  {
   "cell_type": "code",
   "execution_count": null,
   "metadata": {},
   "outputs": [],
   "source": [
    "!pip install scrapy"
   ]
  },
  {
   "cell_type": "code",
   "execution_count": null,
   "metadata": {},
   "outputs": [],
   "source": [
    "import scrapy\n",
    "from scrapy.crawler import CrawlerProcess\n",
    "import json\n",
    "import csv"
   ]
  },
  {
   "cell_type": "code",
   "execution_count": null,
   "metadata": {},
   "outputs": [],
   "source": [
    "class Olx(scrapy.Spider):\n",
    "    name = 'olx'\n",
    "    \n",
    "    url = 'https://www.olx.in/api/relevance/v2/search?category=1725&facet_limit=100&lang=en&location=4059014&location_facet_limit=20&platform=web-desktop&size=40&user=16fecf81399x6039b937'\n",
    "    \n",
    "    headers = {\n",
    "        'user-agent': 'Mozilla/5.0 (Windows NT 10.0; Win64; x64) AppleWebKit/537.36 (KHTML, like Gecko) Chrome/87.0.4280.88 Safari/537.36'\n",
    "    }\n",
    "    \n",
    "    def __init__(self):\n",
    "        with open('olxdata.csv', 'w') as csv_file:\n",
    "            csv_file.write('title,description,location,features,date,price,built\\n')\n",
    "    \n",
    "    def start_requests(self):\n",
    "        for page in range(0, 5):\n",
    "            yield scrapy.Request(url=self.url + '&page=' + str(page), headers=self.headers, callback=self.parse)\n",
    "    \n",
    "    def parse(self, res):\n",
    "        data = res.text\n",
    "        data = json.loads(data)\n",
    "        \n",
    "        for offer in data['data']:\n",
    "            items = {\n",
    "                'title': offer['title'],\n",
    "                'description': offer['description'].replace('\\n', ' '),\n",
    "                'location': offer['locations_resolved']['COUNTRY_name'] + ', ' +\n",
    "                            offer['locations_resolved']['ADMIN_LEVEL_1_name'] + ', ' +\n",
    "                            offer['locations_resolved']['ADMIN_LEVEL_3_name'] + ', ' +\n",
    "                            offer['locations_resolved']['SUBLOCALITY_LEVEL_1_name'],\n",
    "                'features': offer['main_info'],\n",
    "                'date': offer['display_date'],\n",
    "                'price': offer['price']['value']['display'],\n",
    "                'built' : offer['parameters'][6]['value_name'],\n",
    "                \n",
    "                \n",
    "            }\n",
    "            \n",
    "            print(json.dumps(items, indent=2))\n",
    "            \n",
    "            with open('olxdata.csv', 'a') as csv_file:\n",
    "                writer = csv.DictWriter(csv_file, fieldnames=items.keys())\n",
    "                writer.writerow(items)\n",
    "    \n",
    "    \n",
    "\n"
   ]
  },
  {
   "cell_type": "code",
   "execution_count": null,
   "metadata": {
    "scrolled": true
   },
   "outputs": [],
   "source": [
    "# run scraper\n",
    "process = CrawlerProcess()\n",
    "process.crawl(Olx)\n",
    "process.start()\n",
    "\n",
    "# debug\n",
    "#Olx.parse(Olx, '')"
   ]
  },
  {
   "cell_type": "code",
   "execution_count": null,
   "metadata": {},
   "outputs": [],
   "source": []
  }
 ],
 "metadata": {
  "kernelspec": {
   "display_name": "Python 3",
   "language": "python",
   "name": "python3"
  },
  "language_info": {
   "codemirror_mode": {
    "name": "ipython",
    "version": 3
   },
   "file_extension": ".py",
   "mimetype": "text/x-python",
   "name": "python",
   "nbconvert_exporter": "python",
   "pygments_lexer": "ipython3",
   "version": "3.6.4"
  }
 },
 "nbformat": 4,
 "nbformat_minor": 2
}
